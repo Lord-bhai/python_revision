{
  "nbformat": 4,
  "nbformat_minor": 0,
  "metadata": {
    "colab": {
      "provenance": []
    },
    "kernelspec": {
      "name": "python3",
      "display_name": "Python 3"
    },
    "language_info": {
      "name": "python"
    }
  },
  "cells": [
    {
      "cell_type": "markdown",
      "source": [
        "Basics - Sorting\n"
      ],
      "metadata": {
        "id": "Fso1UI-ObC-V"
      }
    },
    {
      "cell_type": "code",
      "execution_count": null,
      "metadata": {
        "colab": {
          "base_uri": "https://localhost:8080/"
        },
        "id": "IPN5pZ4ra3pF",
        "outputId": "d5bd3e8d-0374-4e00-df80-57f575fb38fc"
      },
      "outputs": [
        {
          "output_type": "stream",
          "name": "stdout",
          "text": [
            "[0, -21, 1, 2, 6, 4, 43, 2, 77, 889, 19, 5, 613, 65]\n"
          ]
        }
      ],
      "source": [
        "listb = [1,2,6,4,43,2,77,889,19,5,613,65,0,-21]\n",
        "print(lista)"
      ]
    },
    {
      "cell_type": "markdown",
      "source": [
        "##Selection Sort"
      ],
      "metadata": {
        "id": "1fi0tZ0ghIJq"
      }
    },
    {
      "cell_type": "code",
      "source": [
        "\"\"\"\n",
        "Insertion Sort\n",
        "select minimums\n",
        "step 1: look at the array -> find minimum -> swap with the first one\n",
        "step 2: find minimum of the of the array without first one\n",
        "step 3: find the minimum of the array without first and second one\n",
        "\n",
        "\n",
        "\n",
        "\"\"\""
      ],
      "metadata": {
        "colab": {
          "base_uri": "https://localhost:8080/",
          "height": 70
        },
        "id": "riJr7cb6eMal",
        "outputId": "93d2d504-c8a5-4582-d9e4-31da3c428ab4"
      },
      "execution_count": null,
      "outputs": [
        {
          "output_type": "execute_result",
          "data": {
            "text/plain": [
              "'\\nInsertion Sort\\nselect minimums \\nstep 1: look at the array -> find minimum -> swap with the first one\\nstep 2: find minimum of the of the array without first one\\nstep 3: find the minimum of the array without first and second one\\n\\n\\n\\n'"
            ],
            "application/vnd.google.colaboratory.intrinsic+json": {
              "type": "string"
            }
          },
          "metadata": {},
          "execution_count": 14
        }
      ]
    },
    {
      "cell_type": "code",
      "source": [
        "def selection_sort(lista):\n",
        "  n = len(lista);\n",
        "  for i in range(n):\n",
        "    min_idx = i;\n",
        "\n",
        "    for j in range(i+1,n):\n",
        "      if lista[min_idx] > lista[j]:\n",
        "        min_idx = j;\n",
        "    lista[i],lista[min_idx] = lista[min_idx],lista[i]\n",
        "\n",
        "  return lista\n"
      ],
      "metadata": {
        "id": "k2K_9LtbbR1n"
      },
      "execution_count": null,
      "outputs": []
    },
    {
      "cell_type": "code",
      "source": [
        "selection_sort(listb)"
      ],
      "metadata": {
        "colab": {
          "base_uri": "https://localhost:8080/"
        },
        "id": "ztOc3AcLeJ8I",
        "outputId": "0cd19ea2-7498-4a6b-c6ca-11761e447cc8"
      },
      "execution_count": null,
      "outputs": [
        {
          "output_type": "execute_result",
          "data": {
            "text/plain": [
              "[-21, 0, 1, 2, 2, 4, 5, 6, 19, 43, 65, 77, 613, 889]"
            ]
          },
          "metadata": {},
          "execution_count": 13
        }
      ]
    },
    {
      "cell_type": "markdown",
      "source": [
        "## Bubble Sort"
      ],
      "metadata": {
        "id": "q1xBS7YwhV4Z"
      }
    },
    {
      "cell_type": "code",
      "source": [
        "\"\"\"\n",
        "Pushes the largest one to last by adjacent swaps\n",
        "\"\"\""
      ],
      "metadata": {
        "colab": {
          "base_uri": "https://localhost:8080/",
          "height": 36
        },
        "id": "sxKnEltBhAC1",
        "outputId": "bf6f74ba-7c63-4bc3-b2e3-d9fd843a1863"
      },
      "execution_count": null,
      "outputs": [
        {
          "output_type": "execute_result",
          "data": {
            "text/plain": [
              "'\\nPushes the largest one to last by adjacent swaps\\n'"
            ],
            "application/vnd.google.colaboratory.intrinsic+json": {
              "type": "string"
            }
          },
          "metadata": {},
          "execution_count": 15
        }
      ]
    },
    {
      "cell_type": "code",
      "source": [
        "def bubble_sort(arr):\n",
        "  n = len(arr)\n",
        "  for i in range(n):\n",
        "\n",
        "    for j in range(n-i-1):\n",
        "      if arr[j] > arr[j+1]:\n",
        "        arr[j],arr[j+1] = arr[j+1],arr[j]\n",
        "  return arr\n"
      ],
      "metadata": {
        "id": "20CNEw05ism0"
      },
      "execution_count": null,
      "outputs": []
    },
    {
      "cell_type": "code",
      "source": [
        "bubble_sort(listb)"
      ],
      "metadata": {
        "colab": {
          "base_uri": "https://localhost:8080/"
        },
        "id": "ypx8Zct3j4te",
        "outputId": "b7ccbe51-ea52-4f68-e034-5d51b07a7ddf"
      },
      "execution_count": null,
      "outputs": [
        {
          "output_type": "execute_result",
          "data": {
            "text/plain": [
              "[-21, 0, 1, 2, 2, 4, 5, 6, 19, 43, 65, 77, 613, 889]"
            ]
          },
          "metadata": {},
          "execution_count": 19
        }
      ]
    },
    {
      "cell_type": "markdown",
      "source": [
        "## Insertion Sort"
      ],
      "metadata": {
        "id": "Xc6tU2R-k64z"
      }
    },
    {
      "cell_type": "code",
      "source": [
        "\"\"\"\n",
        "takes an element and places it in correct position\n",
        "\n",
        "\"\"\""
      ],
      "metadata": {
        "colab": {
          "base_uri": "https://localhost:8080/",
          "height": 36
        },
        "id": "2EOJlLFnj7wO",
        "outputId": "2ae1f68c-4f26-4115-c619-457b345fe946"
      },
      "execution_count": null,
      "outputs": [
        {
          "output_type": "execute_result",
          "data": {
            "text/plain": [
              "'\\ntakes an element and places it in correct position\\n\\n'"
            ],
            "application/vnd.google.colaboratory.intrinsic+json": {
              "type": "string"
            }
          },
          "metadata": {},
          "execution_count": 20
        }
      ]
    },
    {
      "cell_type": "code",
      "source": [
        "def insertion_sort(arr):\n",
        "  n = len(arr);\n",
        "  for i in range(1,n):\n",
        "    for j in range(i,0,-1):\n",
        "      if arr[j] <= arr[j-1]:\n",
        "        arr[j],arr[j-1] = arr[j-1],arr[j]\n",
        "\n",
        "  return arr"
      ],
      "metadata": {
        "id": "Z6DbTfnilHQc"
      },
      "execution_count": null,
      "outputs": []
    },
    {
      "cell_type": "code",
      "source": [
        "insertion_sort(listb)"
      ],
      "metadata": {
        "colab": {
          "base_uri": "https://localhost:8080/"
        },
        "id": "yu0B3SPKmjbh",
        "outputId": "edeeadad-c605-46e4-9dc9-c72f8ce75382"
      },
      "execution_count": null,
      "outputs": [
        {
          "output_type": "execute_result",
          "data": {
            "text/plain": [
              "[-21, 0, 1, 2, 2, 4, 5, 6, 19, 43, 65, 77, 613, 889]"
            ]
          },
          "metadata": {},
          "execution_count": 22
        }
      ]
    },
    {
      "cell_type": "markdown",
      "source": [
        "## Merge Sort"
      ],
      "metadata": {
        "id": "F5rfkndX-hpH"
      }
    },
    {
      "cell_type": "code",
      "source": [
        "\"\"\"\n",
        "Merging the subarrays\n",
        "time complexity - O(nlogn)\n",
        "\n",
        "Algorithm  - recursive algo\n",
        "divide and merge\n",
        "\n",
        "\"\"\""
      ],
      "metadata": {
        "colab": {
          "base_uri": "https://localhost:8080/",
          "height": 36
        },
        "id": "qdbWyBrPmmR3",
        "outputId": "34d50e86-ce8a-4581-fc28-d17a469570e4"
      },
      "execution_count": null,
      "outputs": [
        {
          "output_type": "execute_result",
          "data": {
            "text/plain": [
              "'\\nMerging the subarrays\\ntime complexity - O(nlogn)\\n\\nAlgorithm  - recursive algo\\n\\n'"
            ],
            "application/vnd.google.colaboratory.intrinsic+json": {
              "type": "string"
            }
          },
          "metadata": {},
          "execution_count": 24
        }
      ]
    },
    {
      "cell_type": "code",
      "source": [
        "listb = [1,2,6,4,43,2,77,889,19,5,613,65,0,-21]\n",
        "lista = [1,2,6,4,43,2,77,889,19,5,613,0,-21]\n",
        "listc = [1,5,8,2,0]"
      ],
      "metadata": {
        "id": "kzVVyiEj_DhV"
      },
      "execution_count": null,
      "outputs": []
    },
    {
      "cell_type": "code",
      "source": [
        "# for 13 -> left = 0; right = 12 -> mid = 6 -> first substring should be 7 and second should be 6\n",
        "# for 12 -> left =0 ; right = 11 -> mid = 5 -> substrings -> 6 and 6"
      ],
      "metadata": {
        "id": "THRIGsWWE_Ax"
      },
      "execution_count": null,
      "outputs": []
    },
    {
      "cell_type": "code",
      "source": [
        "def merge(arr,left,mid,right):\n",
        "  n1 = mid - left + 1 # first substring length\n",
        "  n2 = right - mid # second substring length\n",
        "  # here left mid and right are pointers hence counting is little confusing\n",
        "  #create empty arrays L and R\n",
        "  L = [0]*n1; R = [0]*n2;\n",
        "  # fill the subarrays with original array elements\n",
        "  for i in range(n1):\n",
        "    L[i] = arr[left+i]\n",
        "  for j in range(n2):\n",
        "    R[j] = arr[mid + 1+ j]\n",
        " # initiating the indexes i , j and k for L,R and arr respectively\n",
        "  i =0 ; j = 0; k = left;\n",
        "  while i < n1 and j < n2 :\n",
        "    if L[i] <= R[j] :\n",
        "      arr[k] = L[i];\n",
        "      k += 1; i += 1;\n",
        "    else :\n",
        "      arr[k] = R [j];\n",
        "      k += 1; j += 1;\n",
        "  while i < n1 :\n",
        "    arr[k] = L[i];\n",
        "    k += 1; i += 1;\n",
        "  while j < n2 :\n",
        "    arr[k] = R[j];\n",
        "    k += 1; j += 1;\n",
        "\n",
        "def merge_sort(arr,left,right):\n",
        "  if left < right:\n",
        "    mid = (left + right)//2\n",
        "    merge_sort(arr,left,mid);\n",
        "    merge_sort(arr,mid+1,right);\n",
        "    merge(arr,left,mid,right)"
      ],
      "metadata": {
        "id": "_vw62JWg-pNT"
      },
      "execution_count": null,
      "outputs": []
    },
    {
      "cell_type": "code",
      "source": [
        " print(listb)\n",
        " merge_sort(listb, 0, len(listb) - 1)\n",
        " print(listb)"
      ],
      "metadata": {
        "colab": {
          "base_uri": "https://localhost:8080/"
        },
        "id": "UYV21ag4Kqj-",
        "outputId": "f8ea8df9-404a-4215-9ead-3a8226f345e6"
      },
      "execution_count": null,
      "outputs": [
        {
          "output_type": "stream",
          "name": "stdout",
          "text": [
            "[1, 2, 6, 4, 43, 2, 77, 889, 19, 5, 613, 65, 0, -21]\n",
            "[-21, 0, 1, 2, 2, 4, 5, 6, 19, 43, 65, 77, 613, 889]\n"
          ]
        }
      ]
    },
    {
      "cell_type": "code",
      "source": [],
      "metadata": {
        "id": "k9wyjPftLi9J"
      },
      "execution_count": null,
      "outputs": []
    },
    {
      "cell_type": "markdown",
      "source": [
        "## Quick Sort"
      ],
      "metadata": {
        "id": "rKVmQvaAJ9fL"
      }
    },
    {
      "cell_type": "code",
      "source": [
        "# similar to merge sort but does not use extra space\n",
        "# pivot - > any element\n",
        "def partition(arr,l,h):\n",
        "  pivot = arr[l];\n",
        "  # i is the\n",
        "  i = l - 1; # why ??\n",
        "  j = h + 1;\n",
        "  while (True):\n",
        "    i += 1;\n",
        "    while (arr[i]< pivot):\n",
        "      i += 1\n",
        "\n",
        "    j -= 1;\n",
        "    while (arr[j] > pivot):\n",
        "      j -= 1;\n",
        "\n",
        "    if i >= j:\n",
        "      return j\n",
        "\n",
        "    arr[i],arr[j] = arr[j],arr[i]\n",
        "\n",
        "\n",
        "def quick_sort(arr,l,h):\n",
        "  if l < h:\n",
        "    pi = partition(arr,l,h);\n",
        "    quick_sort(arr,l,pi-1);\n",
        "    quick_sort(arr,pi+1,h);"
      ],
      "metadata": {
        "id": "SOI-pWIdJ_RD"
      },
      "execution_count": null,
      "outputs": []
    },
    {
      "cell_type": "code",
      "source": [
        "listb = [1,2,6,4,43,2,77,889,19,5,613,65,0,-21]\n",
        "lista = [1,2,6,4,43,2,77,889,19,5,613,0,-21]\n",
        "listc = [1,5,8,2,0]"
      ],
      "metadata": {
        "id": "wiC7SmXmMTyW"
      },
      "execution_count": null,
      "outputs": []
    },
    {
      "cell_type": "code",
      "source": [
        "quick_sort(lista,0,len(lista)-1)"
      ],
      "metadata": {
        "id": "FRTOLvuDMYik"
      },
      "execution_count": null,
      "outputs": []
    },
    {
      "cell_type": "code",
      "source": [
        "lista"
      ],
      "metadata": {
        "id": "75XJ4273MfRm",
        "outputId": "df19c7d0-9cdc-4f9e-8843-d8c9b9d5a29d",
        "colab": {
          "base_uri": "https://localhost:8080/"
        }
      },
      "execution_count": null,
      "outputs": [
        {
          "output_type": "execute_result",
          "data": {
            "text/plain": [
              "[-21, 0, 1, 2, 2, 4, 5, 6, 19, 77, 613, 43, 889]"
            ]
          },
          "metadata": {},
          "execution_count": 4
        }
      ]
    },
    {
      "cell_type": "code",
      "source": [],
      "metadata": {
        "id": "Q0t2rO6mMgmu"
      },
      "execution_count": null,
      "outputs": []
    }
  ]
}