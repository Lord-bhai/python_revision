{
 "cells": [
  {
   "cell_type": "markdown",
   "id": "c4165e43",
   "metadata": {},
   "source": [
    "# Lamda"
   ]
  },
  {
   "cell_type": "markdown",
   "id": "635ae1dd",
   "metadata": {},
   "source": [
    "### Map and Fiilter"
   ]
  },
  {
   "cell_type": "markdown",
   "id": "f061fe0d",
   "metadata": {},
   "source": [
    "Map - "
   ]
  },
  {
   "cell_type": "code",
   "execution_count": 1,
   "id": "2bc5eebd",
   "metadata": {},
   "outputs": [],
   "source": [
    "def add_1(a):\n",
    "    return a+1;"
   ]
  },
  {
   "cell_type": "code",
   "execution_count": 2,
   "id": "08f754e8",
   "metadata": {},
   "outputs": [],
   "source": [
    "lista = [1,2,3,4,5,6,7,8]"
   ]
  },
  {
   "cell_type": "code",
   "execution_count": 5,
   "id": "1db9cf58",
   "metadata": {},
   "outputs": [
    {
     "name": "stdout",
     "output_type": "stream",
     "text": [
      "2\n",
      "3\n",
      "4\n",
      "5\n",
      "6\n",
      "7\n",
      "8\n",
      "9\n"
     ]
    }
   ],
   "source": [
    "for item in map(add_1,lista):\n",
    "    print(item)"
   ]
  },
  {
   "cell_type": "code",
   "execution_count": 8,
   "id": "1530befd",
   "metadata": {},
   "outputs": [],
   "source": [
    "listb = list(map(add_1,lista))"
   ]
  },
  {
   "cell_type": "code",
   "execution_count": 9,
   "id": "3ca3cd5e",
   "metadata": {},
   "outputs": [
    {
     "name": "stdout",
     "output_type": "stream",
     "text": [
      "[2, 3, 4, 5, 6, 7, 8, 9]\n"
     ]
    }
   ],
   "source": [
    "print(listb)"
   ]
  },
  {
   "cell_type": "markdown",
   "id": "f7d2da4f",
   "metadata": {},
   "source": [
    "For map -> you will pass the fuction name to the map but not the function()"
   ]
  },
  {
   "cell_type": "markdown",
   "id": "bd1199bc",
   "metadata": {},
   "source": [
    "### Filter"
   ]
  },
  {
   "cell_type": "code",
   "execution_count": 14,
   "id": "7f5e2eb1",
   "metadata": {},
   "outputs": [],
   "source": [
    "def is_even(a):\n",
    "    return( a%2 ==0);"
   ]
  },
  {
   "cell_type": "code",
   "execution_count": 15,
   "id": "7f60e64f",
   "metadata": {},
   "outputs": [
    {
     "name": "stdout",
     "output_type": "stream",
     "text": [
      "[2, 4, 6, 8]\n"
     ]
    }
   ],
   "source": [
    "print(list(filter(is_even,listb)))"
   ]
  },
  {
   "cell_type": "markdown",
   "id": "ecc32808",
   "metadata": {},
   "source": [
    "Filter - is used to filter the values that pass from the iterable"
   ]
  },
  {
   "cell_type": "markdown",
   "id": "b1aaf47c",
   "metadata": {},
   "source": [
    "## Lambda Expression"
   ]
  },
  {
   "cell_type": "code",
   "execution_count": 16,
   "id": "9555a5a2",
   "metadata": {},
   "outputs": [],
   "source": [
    "def square(num):\n",
    "    return num**2;"
   ]
  },
  {
   "cell_type": "code",
   "execution_count": 17,
   "id": "d86b8cf1",
   "metadata": {},
   "outputs": [
    {
     "data": {
      "text/plain": [
       "9"
      ]
     },
     "execution_count": 17,
     "metadata": {},
     "output_type": "execute_result"
    }
   ],
   "source": [
    "square(3)"
   ]
  },
  {
   "cell_type": "code",
   "execution_count": 19,
   "id": "fe02693f",
   "metadata": {},
   "outputs": [],
   "source": [
    "square2 = lambda num: num**2 "
   ]
  },
  {
   "cell_type": "code",
   "execution_count": 20,
   "id": "1fc8cb3f",
   "metadata": {},
   "outputs": [
    {
     "data": {
      "text/plain": [
       "9"
      ]
     },
     "execution_count": 20,
     "metadata": {},
     "output_type": "execute_result"
    }
   ],
   "source": [
    "square2(3)"
   ]
  },
  {
   "cell_type": "code",
   "execution_count": 21,
   "id": "75eeb2f7",
   "metadata": {},
   "outputs": [
    {
     "name": "stdout",
     "output_type": "stream",
     "text": [
      "[1, 4, 9, 16, 25, 36, 49, 64]\n"
     ]
    }
   ],
   "source": [
    "print(list(map(lambda num: num**2,lista)))"
   ]
  },
  {
   "cell_type": "code",
   "execution_count": 23,
   "id": "a565434d",
   "metadata": {},
   "outputs": [
    {
     "name": "stdout",
     "output_type": "stream",
     "text": [
      "[2, 4, 6, 8]\n"
     ]
    }
   ],
   "source": [
    "print(list(filter(lambda num : (num%2 == 0),listb)))"
   ]
  },
  {
   "cell_type": "markdown",
   "id": "68795478",
   "metadata": {},
   "source": [
    "### Syntax ::-> lambda input : output"
   ]
  },
  {
   "cell_type": "markdown",
   "id": "7a9172af",
   "metadata": {},
   "source": [
    "# Nested Statements and Scope"
   ]
  },
  {
   "cell_type": "markdown",
   "id": "948ad183",
   "metadata": {},
   "source": [
    "LEGB rule :- Local > Enclosing Function Local > Global > Built-in"
   ]
  },
  {
   "cell_type": "code",
   "execution_count": 4,
   "id": "5f733ac2",
   "metadata": {},
   "outputs": [],
   "source": [
    "x = 25;\n",
    "def printer():\n",
    "    x = 50;\n",
    "    return x"
   ]
  },
  {
   "cell_type": "code",
   "execution_count": 5,
   "id": "2d188df6",
   "metadata": {},
   "outputs": [
    {
     "name": "stdout",
     "output_type": "stream",
     "text": [
      "25\n"
     ]
    }
   ],
   "source": [
    "print(x)"
   ]
  },
  {
   "cell_type": "code",
   "execution_count": 7,
   "id": "63ba2d65",
   "metadata": {},
   "outputs": [
    {
     "name": "stdout",
     "output_type": "stream",
     "text": [
      "50\n"
     ]
    }
   ],
   "source": [
    "print(printer())"
   ]
  },
  {
   "cell_type": "code",
   "execution_count": 15,
   "id": "664a57f8",
   "metadata": {},
   "outputs": [
    {
     "name": "stdout",
     "output_type": "stream",
     "text": [
      "Magham\n",
      "164\n",
      "76\n",
      "Bhanu\n",
      "Pradeep\n"
     ]
    }
   ],
   "source": [
    "name = \"Pradeep\";weight = 76\n",
    "\n",
    "def greet():\n",
    "    \n",
    "    name = \"Bhanu\"; height = 164;\n",
    "    def hello():\n",
    "        name = 'Magham';\n",
    "        print(name);print(height);print(weight);\n",
    "        return name\n",
    "    hello()\n",
    "    print(name)\n",
    "    return name\n",
    "greet()\n",
    "print(name)"
   ]
  },
  {
   "cell_type": "markdown",
   "id": "3b02a583",
   "metadata": {},
   "source": [
    "Local >>> Enclosing Local >>> Global >>> Built-in"
   ]
  },
  {
   "cell_type": "code",
   "execution_count": null,
   "id": "feac7e1e",
   "metadata": {},
   "outputs": [],
   "source": []
  }
 ],
 "metadata": {
  "kernelspec": {
   "display_name": "Python 3 (ipykernel)",
   "language": "python",
   "name": "python3"
  },
  "language_info": {
   "codemirror_mode": {
    "name": "ipython",
    "version": 3
   },
   "file_extension": ".py",
   "mimetype": "text/x-python",
   "name": "python",
   "nbconvert_exporter": "python",
   "pygments_lexer": "ipython3",
   "version": "3.11.5"
  }
 },
 "nbformat": 4,
 "nbformat_minor": 5
}
