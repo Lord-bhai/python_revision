{
 "cells": [
  {
   "cell_type": "markdown",
   "id": "fbc2a2f9",
   "metadata": {},
   "source": [
    "\"\"\"\n",
    "data types - int, float, str, list, dict, tup, set, bool\n",
    "\"\"\"\n",
    "\n",
    "# numbers"
   ]
  },
  {
   "cell_type": "code",
   "execution_count": 2,
   "id": "fad85f10",
   "metadata": {},
   "outputs": [],
   "source": [
    "a = 3; b= 5;"
   ]
  },
  {
   "cell_type": "code",
   "execution_count": 3,
   "id": "6df9ef6a",
   "metadata": {},
   "outputs": [
    {
     "name": "stdout",
     "output_type": "stream",
     "text": [
      "8\n"
     ]
    }
   ],
   "source": [
    "print(a+b)\n"
   ]
  },
  {
   "cell_type": "code",
   "execution_count": 4,
   "id": "bf8b38f3",
   "metadata": {},
   "outputs": [],
   "source": [
    "c= a+b;"
   ]
  },
  {
   "cell_type": "code",
   "execution_count": 5,
   "id": "24d56252",
   "metadata": {},
   "outputs": [
    {
     "name": "stdout",
     "output_type": "stream",
     "text": [
      "8\n"
     ]
    }
   ],
   "source": [
    "print(c)"
   ]
  },
  {
   "cell_type": "code",
   "execution_count": 6,
   "id": "2a095062",
   "metadata": {},
   "outputs": [],
   "source": [
    "b= 8;"
   ]
  },
  {
   "cell_type": "code",
   "execution_count": 7,
   "id": "6af1d9ca",
   "metadata": {},
   "outputs": [
    {
     "name": "stdout",
     "output_type": "stream",
     "text": [
      "8\n"
     ]
    }
   ],
   "source": [
    "print(c)"
   ]
  },
  {
   "cell_type": "markdown",
   "id": "c9ed43da",
   "metadata": {},
   "source": [
    "mod operator\n"
   ]
  },
  {
   "cell_type": "code",
   "execution_count": 8,
   "id": "057cb5b5",
   "metadata": {},
   "outputs": [
    {
     "data": {
      "text/plain": [
       "1.75"
      ]
     },
     "execution_count": 8,
     "metadata": {},
     "output_type": "execute_result"
    }
   ],
   "source": [
    "7/4"
   ]
  },
  {
   "cell_type": "code",
   "execution_count": 9,
   "id": "13c06212",
   "metadata": {},
   "outputs": [
    {
     "data": {
      "text/plain": [
       "3"
      ]
     },
     "execution_count": 9,
     "metadata": {},
     "output_type": "execute_result"
    }
   ],
   "source": [
    "7%4"
   ]
  },
  {
   "cell_type": "code",
   "execution_count": 10,
   "id": "fae3b1e1",
   "metadata": {},
   "outputs": [
    {
     "data": {
      "text/plain": [
       "1"
      ]
     },
     "execution_count": 10,
     "metadata": {},
     "output_type": "execute_result"
    }
   ],
   "source": [
    "7//4"
   ]
  },
  {
   "cell_type": "code",
   "execution_count": 11,
   "id": "7f7ad61f",
   "metadata": {},
   "outputs": [
    {
     "data": {
      "text/plain": [
       "49"
      ]
     },
     "execution_count": 11,
     "metadata": {},
     "output_type": "execute_result"
    }
   ],
   "source": [
    "7**2"
   ]
  },
  {
   "cell_type": "code",
   "execution_count": 12,
   "id": "c0f89ecd",
   "metadata": {},
   "outputs": [
    {
     "data": {
      "text/plain": [
       "9"
      ]
     },
     "execution_count": 12,
     "metadata": {},
     "output_type": "execute_result"
    }
   ],
   "source": [
    "7+2"
   ]
  },
  {
   "cell_type": "code",
   "execution_count": 13,
   "id": "2512acf0",
   "metadata": {},
   "outputs": [
    {
     "data": {
      "text/plain": [
       "5"
      ]
     },
     "execution_count": 13,
     "metadata": {},
     "output_type": "execute_result"
    }
   ],
   "source": [
    "7-2"
   ]
  },
  {
   "cell_type": "markdown",
   "id": "541a73c9",
   "metadata": {},
   "source": [
    "# Strings"
   ]
  },
  {
   "cell_type": "code",
   "execution_count": 14,
   "id": "30adddd8",
   "metadata": {},
   "outputs": [
    {
     "data": {
      "text/plain": [
       "' Bhanu Pradeep is a nice guy'"
      ]
     },
     "execution_count": 14,
     "metadata": {},
     "output_type": "execute_result"
    }
   ],
   "source": [
    "\" Bhanu Pradeep is a nice guy\""
   ]
  },
  {
   "cell_type": "code",
   "execution_count": 15,
   "id": "51bd0c8c",
   "metadata": {},
   "outputs": [
    {
     "data": {
      "text/plain": [
       "'Bhanu is also good in math'"
      ]
     },
     "execution_count": 15,
     "metadata": {},
     "output_type": "execute_result"
    }
   ],
   "source": [
    "'Bhanu is also good in math'"
   ]
  },
  {
   "cell_type": "code",
   "execution_count": 16,
   "id": "accc46bb",
   "metadata": {},
   "outputs": [
    {
     "data": {
      "text/plain": [
       "'Bhanu loves going out\\nand bhanu has a great taste in music'"
      ]
     },
     "execution_count": 16,
     "metadata": {},
     "output_type": "execute_result"
    }
   ],
   "source": [
    "\"\"\"Bhanu loves going out\n",
    "and bhanu has a great taste in music\"\"\""
   ]
  },
  {
   "cell_type": "code",
   "execution_count": 17,
   "id": "3e1d9aae",
   "metadata": {},
   "outputs": [],
   "source": [
    "my_name = \"Bhanu Pradeep\""
   ]
  },
  {
   "cell_type": "code",
   "execution_count": 18,
   "id": "1cdbb2ca",
   "metadata": {},
   "outputs": [
    {
     "name": "stdout",
     "output_type": "stream",
     "text": [
      "Bhanu Pradeep\n"
     ]
    }
   ],
   "source": [
    "print(my_name)"
   ]
  },
  {
   "cell_type": "markdown",
   "id": "a601d151",
   "metadata": {},
   "source": [
    "### String indexing and slicing"
   ]
  },
  {
   "cell_type": "code",
   "execution_count": 19,
   "id": "7bd8414a",
   "metadata": {},
   "outputs": [
    {
     "data": {
      "text/plain": [
       "'B'"
      ]
     },
     "execution_count": 19,
     "metadata": {},
     "output_type": "execute_result"
    }
   ],
   "source": [
    "my_name[0]"
   ]
  },
  {
   "cell_type": "code",
   "execution_count": 20,
   "id": "bf719956",
   "metadata": {},
   "outputs": [
    {
     "data": {
      "text/plain": [
       "' '"
      ]
     },
     "execution_count": 20,
     "metadata": {},
     "output_type": "execute_result"
    }
   ],
   "source": [
    "my_name[5]"
   ]
  },
  {
   "cell_type": "code",
   "execution_count": 21,
   "id": "3296463b",
   "metadata": {},
   "outputs": [
    {
     "data": {
      "text/plain": [
       "'e'"
      ]
     },
     "execution_count": 21,
     "metadata": {},
     "output_type": "execute_result"
    }
   ],
   "source": [
    "my_name[-2]"
   ]
  },
  {
   "cell_type": "code",
   "execution_count": 22,
   "id": "eca2f7a9",
   "metadata": {},
   "outputs": [
    {
     "data": {
      "text/plain": [
       "'nu P'"
      ]
     },
     "execution_count": 22,
     "metadata": {},
     "output_type": "execute_result"
    }
   ],
   "source": [
    "my_name[3:7]"
   ]
  },
  {
   "cell_type": "markdown",
   "id": "a99a916d",
   "metadata": {},
   "source": [
    "slicing - string[ Start : Stop : Step]"
   ]
  },
  {
   "cell_type": "code",
   "execution_count": 26,
   "id": "3cba5768",
   "metadata": {},
   "outputs": [
    {
     "data": {
      "text/plain": [
       "'peedarP unahB'"
      ]
     },
     "execution_count": 26,
     "metadata": {},
     "output_type": "execute_result"
    }
   ],
   "source": [
    "my_name[::-1]"
   ]
  },
  {
   "cell_type": "code",
   "execution_count": 27,
   "id": "ccf66ac7",
   "metadata": {},
   "outputs": [
    {
     "data": {
      "text/plain": [
       "'\\n'"
      ]
     },
     "execution_count": 27,
     "metadata": {},
     "output_type": "execute_result"
    }
   ],
   "source": [
    "\"\\n\""
   ]
  },
  {
   "cell_type": "code",
   "execution_count": 28,
   "id": "e6067338",
   "metadata": {},
   "outputs": [
    {
     "name": "stdout",
     "output_type": "stream",
     "text": [
      "bhanu \n",
      " pradeep\n"
     ]
    }
   ],
   "source": [
    "print(\"bhanu \\n pradeep\")"
   ]
  },
  {
   "cell_type": "code",
   "execution_count": 29,
   "id": "b06a7393",
   "metadata": {},
   "outputs": [
    {
     "data": {
      "text/plain": [
       "13"
      ]
     },
     "execution_count": 29,
     "metadata": {},
     "output_type": "execute_result"
    }
   ],
   "source": [
    "len(my_name)"
   ]
  },
  {
   "cell_type": "code",
   "execution_count": 31,
   "id": "e8603863",
   "metadata": {},
   "outputs": [
    {
     "data": {
      "text/plain": [
       "'Bhanu Pradeep the boss'"
      ]
     },
     "execution_count": 31,
     "metadata": {},
     "output_type": "execute_result"
    }
   ],
   "source": [
    "my_name + ' the boss' #concatenate"
   ]
  },
  {
   "cell_type": "code",
   "execution_count": 33,
   "id": "1b7ab333",
   "metadata": {},
   "outputs": [
    {
     "ename": "TypeError",
     "evalue": "'str' object does not support item assignment",
     "output_type": "error",
     "traceback": [
      "\u001b[1;31m---------------------------------------------------------------------------\u001b[0m",
      "\u001b[1;31mTypeError\u001b[0m                                 Traceback (most recent call last)",
      "Cell \u001b[1;32mIn[33], line 1\u001b[0m\n\u001b[1;32m----> 1\u001b[0m my_name[\u001b[38;5;241m3\u001b[39m] \u001b[38;5;241m=\u001b[39m \u001b[38;5;124m'\u001b[39m\u001b[38;5;124mo\u001b[39m\u001b[38;5;124m'\u001b[39m\n",
      "\u001b[1;31mTypeError\u001b[0m: 'str' object does not support item assignment"
     ]
    }
   ],
   "source": [
    "my_name[3] = 'o'\n",
    "# strings are immutable"
   ]
  },
  {
   "cell_type": "code",
   "execution_count": 36,
   "id": "e5b34afb",
   "metadata": {},
   "outputs": [],
   "source": [
    "sub = my_name + \" has got great ri\" +\"z\"*6"
   ]
  },
  {
   "cell_type": "code",
   "execution_count": 37,
   "id": "cfe53673",
   "metadata": {},
   "outputs": [
    {
     "data": {
      "text/plain": [
       "['Bhanu', 'Pradeep', 'has', 'got', 'great', 'rizzzzzz']"
      ]
     },
     "execution_count": 37,
     "metadata": {},
     "output_type": "execute_result"
    }
   ],
   "source": [
    "sub.split()"
   ]
  },
  {
   "cell_type": "code",
   "execution_count": 42,
   "id": "cbe0fd01",
   "metadata": {},
   "outputs": [
    {
     "data": {
      "text/plain": [
       "['Bh', 'nu Pr', 'deep h', 's got gre', 't rizzzzzz']"
      ]
     },
     "execution_count": 42,
     "metadata": {},
     "output_type": "execute_result"
    }
   ],
   "source": [
    "sub.split('a')"
   ]
  },
  {
   "cell_type": "code",
   "execution_count": 44,
   "id": "248d3381",
   "metadata": {},
   "outputs": [
    {
     "data": {
      "text/plain": [
       "['Bh', 'nu Pradeep has got great rizzzzzz']"
      ]
     },
     "execution_count": 44,
     "metadata": {},
     "output_type": "execute_result"
    }
   ],
   "source": [
    "sub.split('a',1)\n",
    "#how to find the domain name from the email - split @,1"
   ]
  },
  {
   "cell_type": "markdown",
   "id": "9f213eb9",
   "metadata": {},
   "source": [
    "# Lists"
   ]
  },
  {
   "cell_type": "code",
   "execution_count": 63,
   "id": "3e209a92",
   "metadata": {},
   "outputs": [],
   "source": [
    "my_list = sub.split()"
   ]
  },
  {
   "cell_type": "code",
   "execution_count": 46,
   "id": "6844a844",
   "metadata": {},
   "outputs": [
    {
     "data": {
      "text/plain": [
       "['Bhanu', 'Pradeep', 'has', 'got', 'great', 'rizzzzzz']"
      ]
     },
     "execution_count": 46,
     "metadata": {},
     "output_type": "execute_result"
    }
   ],
   "source": [
    "my_list"
   ]
  },
  {
   "cell_type": "code",
   "execution_count": 47,
   "id": "cac65893",
   "metadata": {},
   "outputs": [
    {
     "data": {
      "text/plain": [
       "'Bhanu'"
      ]
     },
     "execution_count": 47,
     "metadata": {},
     "output_type": "execute_result"
    }
   ],
   "source": [
    "my_list[0]"
   ]
  },
  {
   "cell_type": "code",
   "execution_count": 48,
   "id": "6778a0b7",
   "metadata": {},
   "outputs": [
    {
     "data": {
      "text/plain": [
       "'great'"
      ]
     },
     "execution_count": 48,
     "metadata": {},
     "output_type": "execute_result"
    }
   ],
   "source": [
    "my_list[4]"
   ]
  },
  {
   "cell_type": "code",
   "execution_count": 49,
   "id": "36606f61",
   "metadata": {},
   "outputs": [],
   "source": [
    "my_list[4] = 'goooood'\n",
    "#lists are mutable"
   ]
  },
  {
   "cell_type": "code",
   "execution_count": 50,
   "id": "a77c616b",
   "metadata": {},
   "outputs": [
    {
     "data": {
      "text/plain": [
       "['Bhanu', 'Pradeep', 'has', 'got', 'goooood', 'rizzzzzz']"
      ]
     },
     "execution_count": 50,
     "metadata": {},
     "output_type": "execute_result"
    }
   ],
   "source": [
    "my_list"
   ]
  },
  {
   "cell_type": "code",
   "execution_count": 51,
   "id": "2bd69e76",
   "metadata": {},
   "outputs": [],
   "source": [
    "my_list.append('also')"
   ]
  },
  {
   "cell_type": "code",
   "execution_count": 52,
   "id": "e8d92d42",
   "metadata": {},
   "outputs": [
    {
     "data": {
      "text/plain": [
       "['Bhanu', 'Pradeep', 'has', 'got', 'goooood', 'rizzzzzz', 'also']"
      ]
     },
     "execution_count": 52,
     "metadata": {},
     "output_type": "execute_result"
    }
   ],
   "source": [
    "my_list"
   ]
  },
  {
   "cell_type": "code",
   "execution_count": 53,
   "id": "c10c9177",
   "metadata": {},
   "outputs": [
    {
     "data": {
      "text/plain": [
       "'also'"
      ]
     },
     "execution_count": 53,
     "metadata": {},
     "output_type": "execute_result"
    }
   ],
   "source": [
    "my_list.pop()"
   ]
  },
  {
   "cell_type": "code",
   "execution_count": 54,
   "id": "c67d59ea",
   "metadata": {},
   "outputs": [
    {
     "data": {
      "text/plain": [
       "['Bhanu', 'Pradeep', 'has', 'got', 'goooood', 'rizzzzzz']"
      ]
     },
     "execution_count": 54,
     "metadata": {},
     "output_type": "execute_result"
    }
   ],
   "source": [
    "my_list"
   ]
  },
  {
   "cell_type": "code",
   "execution_count": 56,
   "id": "e0fa0e49",
   "metadata": {},
   "outputs": [
    {
     "data": {
      "text/plain": [
       "['And', 'also', 'he', 'is', 'very', 'intelligent']"
      ]
     },
     "execution_count": 56,
     "metadata": {},
     "output_type": "execute_result"
    }
   ],
   "source": [
    "new_str = 'And also he is very intelligent'\n",
    "new_list = new_str.split()\n",
    "new_list"
   ]
  },
  {
   "cell_type": "code",
   "execution_count": 57,
   "id": "89ecb50e",
   "metadata": {},
   "outputs": [
    {
     "data": {
      "text/plain": [
       "['Bhanu',\n",
       " 'Pradeep',\n",
       " 'has',\n",
       " 'got',\n",
       " 'goooood',\n",
       " 'rizzzzzz',\n",
       " 'And',\n",
       " 'also',\n",
       " 'he',\n",
       " 'is',\n",
       " 'very',\n",
       " 'intelligent']"
      ]
     },
     "execution_count": 57,
     "metadata": {},
     "output_type": "execute_result"
    }
   ],
   "source": [
    "my_list + new_list\n",
    "#list concatenation"
   ]
  },
  {
   "cell_type": "code",
   "execution_count": 58,
   "id": "12d18f92",
   "metadata": {},
   "outputs": [
    {
     "data": {
      "text/plain": [
       "6"
      ]
     },
     "execution_count": 58,
     "metadata": {},
     "output_type": "execute_result"
    }
   ],
   "source": [
    "len(my_list)"
   ]
  },
  {
   "cell_type": "code",
   "execution_count": 59,
   "id": "7a76bf6a",
   "metadata": {},
   "outputs": [],
   "source": [
    "my_list.insert(4,'really')"
   ]
  },
  {
   "cell_type": "code",
   "execution_count": 60,
   "id": "6255d980",
   "metadata": {},
   "outputs": [
    {
     "data": {
      "text/plain": [
       "['Bhanu', 'Pradeep', 'has', 'got', 'really', 'goooood', 'rizzzzzz']"
      ]
     },
     "execution_count": 60,
     "metadata": {},
     "output_type": "execute_result"
    }
   ],
   "source": [
    "my_list"
   ]
  },
  {
   "cell_type": "code",
   "execution_count": 61,
   "id": "ea83a549",
   "metadata": {},
   "outputs": [],
   "source": [
    "my_list.sort() # .sort does inplace sorting in the lists"
   ]
  },
  {
   "cell_type": "code",
   "execution_count": 62,
   "id": "8d956b23",
   "metadata": {},
   "outputs": [
    {
     "data": {
      "text/plain": [
       "['Bhanu', 'Pradeep', 'goooood', 'got', 'has', 'really', 'rizzzzzz']"
      ]
     },
     "execution_count": 62,
     "metadata": {},
     "output_type": "execute_result"
    }
   ],
   "source": [
    "my_list"
   ]
  },
  {
   "cell_type": "code",
   "execution_count": 64,
   "id": "1dda8211",
   "metadata": {},
   "outputs": [
    {
     "data": {
      "text/plain": [
       "['Bhanu', 'Pradeep', 'has', 'got', 'great', 'rizzzzzz']"
      ]
     },
     "execution_count": 64,
     "metadata": {},
     "output_type": "execute_result"
    }
   ],
   "source": [
    "my_list #original one"
   ]
  },
  {
   "cell_type": "markdown",
   "id": "fa5f1c94",
   "metadata": {},
   "source": [
    "# Dictonaries\n"
   ]
  },
  {
   "cell_type": "markdown",
   "id": "7a3aa0bf",
   "metadata": {},
   "source": [
    "Unordered storing of objects $\n",
    "\n",
    "key - value pairs\n",
    "\n",
    "{'key1':'value1','key2':'value2'}\n",
    "\n",
    "hashed storage\n",
    "no slicing, no sorting, no indexing"
   ]
  },
  {
   "cell_type": "code",
   "execution_count": 65,
   "id": "2bfb11e2",
   "metadata": {},
   "outputs": [],
   "source": [
    "dicta = dict()"
   ]
  },
  {
   "cell_type": "code",
   "execution_count": 66,
   "id": "eaf1fd37",
   "metadata": {},
   "outputs": [
    {
     "data": {
      "text/plain": [
       "{}"
      ]
     },
     "execution_count": 66,
     "metadata": {},
     "output_type": "execute_result"
    }
   ],
   "source": [
    "dicta"
   ]
  },
  {
   "cell_type": "code",
   "execution_count": 67,
   "id": "745ada07",
   "metadata": {},
   "outputs": [],
   "source": [
    "dicta = {'maths':95,'social':80,'science':100,'english':85}"
   ]
  },
  {
   "cell_type": "code",
   "execution_count": 68,
   "id": "a6b93d44",
   "metadata": {},
   "outputs": [
    {
     "data": {
      "text/plain": [
       "{'maths': 95, 'social': 80, 'science': 100, 'english': 85}"
      ]
     },
     "execution_count": 68,
     "metadata": {},
     "output_type": "execute_result"
    }
   ],
   "source": [
    "dicta"
   ]
  },
  {
   "cell_type": "code",
   "execution_count": 69,
   "id": "0a06fa5f",
   "metadata": {},
   "outputs": [
    {
     "data": {
      "text/plain": [
       "95"
      ]
     },
     "execution_count": 69,
     "metadata": {},
     "output_type": "execute_result"
    }
   ],
   "source": [
    "dicta['maths']"
   ]
  },
  {
   "cell_type": "code",
   "execution_count": 71,
   "id": "5b8082cf",
   "metadata": {},
   "outputs": [
    {
     "data": {
      "text/plain": [
       "dict_keys(['maths', 'social', 'science', 'english'])"
      ]
     },
     "execution_count": 71,
     "metadata": {},
     "output_type": "execute_result"
    }
   ],
   "source": [
    "dicta.keys()"
   ]
  },
  {
   "cell_type": "code",
   "execution_count": 72,
   "id": "0629b21a",
   "metadata": {},
   "outputs": [
    {
     "data": {
      "text/plain": [
       "dict"
      ]
     },
     "execution_count": 72,
     "metadata": {},
     "output_type": "execute_result"
    }
   ],
   "source": [
    "type(dicta)"
   ]
  },
  {
   "cell_type": "code",
   "execution_count": 73,
   "id": "ed60c542",
   "metadata": {},
   "outputs": [
    {
     "data": {
      "text/plain": [
       "True"
      ]
     },
     "execution_count": 73,
     "metadata": {},
     "output_type": "execute_result"
    }
   ],
   "source": [
    "(type(dicta) == dict)"
   ]
  },
  {
   "cell_type": "code",
   "execution_count": 74,
   "id": "f7142742",
   "metadata": {},
   "outputs": [],
   "source": [
    "dicta['telugu'] = 98"
   ]
  },
  {
   "cell_type": "code",
   "execution_count": 75,
   "id": "a0432d23",
   "metadata": {},
   "outputs": [
    {
     "data": {
      "text/plain": [
       "{'maths': 95, 'social': 80, 'science': 100, 'english': 85, 'telugu': 98}"
      ]
     },
     "execution_count": 75,
     "metadata": {},
     "output_type": "execute_result"
    }
   ],
   "source": [
    "dicta"
   ]
  },
  {
   "cell_type": "code",
   "execution_count": 76,
   "id": "72451820",
   "metadata": {},
   "outputs": [
    {
     "data": {
      "text/plain": [
       "dict_items([('maths', 95), ('social', 80), ('science', 100), ('english', 85), ('telugu', 98)])"
      ]
     },
     "execution_count": 76,
     "metadata": {},
     "output_type": "execute_result"
    }
   ],
   "source": [
    "dicta.items()"
   ]
  },
  {
   "cell_type": "code",
   "execution_count": 80,
   "id": "177884ca",
   "metadata": {},
   "outputs": [],
   "source": [
    "dict1 = {\n",
    "    'class': \n",
    "        {'student': \n",
    "             {'name': 'Henry',\n",
    "               'marks': \n",
    "                  {'Science': 70,\n",
    "                   'Maths': 80\n",
    "                  }\n",
    "             }\n",
    "        }\n",
    "}"
   ]
  },
  {
   "cell_type": "code",
   "execution_count": 81,
   "id": "7009dff3",
   "metadata": {},
   "outputs": [
    {
     "data": {
      "text/plain": [
       "80"
      ]
     },
     "execution_count": 81,
     "metadata": {},
     "output_type": "execute_result"
    }
   ],
   "source": [
    "dict1['class']['student']['marks']['Maths']"
   ]
  },
  {
   "cell_type": "markdown",
   "id": "6f1725f4",
   "metadata": {},
   "source": [
    "# Tuples\n"
   ]
  },
  {
   "cell_type": "markdown",
   "id": "b1741567",
   "metadata": {},
   "source": [
    "Immutable\n",
    "similar to lists but ( instead of [\n",
    "    main methods - index and count\n",
    "    ]\n",
    "    "
   ]
  },
  {
   "cell_type": "code",
   "execution_count": 84,
   "id": "85b138ec",
   "metadata": {},
   "outputs": [],
   "source": [
    "my_tuple = tuple()"
   ]
  },
  {
   "cell_type": "code",
   "execution_count": 85,
   "id": "676eff99",
   "metadata": {},
   "outputs": [
    {
     "data": {
      "text/plain": [
       "()"
      ]
     },
     "execution_count": 85,
     "metadata": {},
     "output_type": "execute_result"
    }
   ],
   "source": [
    "my_tuple"
   ]
  },
  {
   "cell_type": "code",
   "execution_count": 86,
   "id": "2980dd93",
   "metadata": {},
   "outputs": [],
   "source": [
    "my_tuple = (1,2,3,4,65)"
   ]
  },
  {
   "cell_type": "code",
   "execution_count": 87,
   "id": "c563d9a0",
   "metadata": {},
   "outputs": [
    {
     "data": {
      "text/plain": [
       "(1, 2, 3, 4, 65)"
      ]
     },
     "execution_count": 87,
     "metadata": {},
     "output_type": "execute_result"
    }
   ],
   "source": [
    "my_tuple"
   ]
  },
  {
   "cell_type": "code",
   "execution_count": 88,
   "id": "26d52618",
   "metadata": {},
   "outputs": [
    {
     "data": {
      "text/plain": [
       "1"
      ]
     },
     "execution_count": 88,
     "metadata": {},
     "output_type": "execute_result"
    }
   ],
   "source": [
    "my_tuple[0]"
   ]
  },
  {
   "cell_type": "code",
   "execution_count": 90,
   "id": "8d0644de",
   "metadata": {},
   "outputs": [
    {
     "ename": "TypeError",
     "evalue": "'tuple' object does not support item assignment",
     "output_type": "error",
     "traceback": [
      "\u001b[1;31m---------------------------------------------------------------------------\u001b[0m",
      "\u001b[1;31mTypeError\u001b[0m                                 Traceback (most recent call last)",
      "Cell \u001b[1;32mIn[90], line 1\u001b[0m\n\u001b[1;32m----> 1\u001b[0m my_tuple[\u001b[38;5;241m3\u001b[39m] \u001b[38;5;241m=\u001b[39m \u001b[38;5;241m10\u001b[39m\n",
      "\u001b[1;31mTypeError\u001b[0m: 'tuple' object does not support item assignment"
     ]
    }
   ],
   "source": [
    "my_tuple[3] = 10"
   ]
  },
  {
   "cell_type": "markdown",
   "id": "b3e257b5",
   "metadata": {},
   "source": [
    "# Sets"
   ]
  },
  {
   "cell_type": "markdown",
   "id": "46df1e8e",
   "metadata": {},
   "source": [
    "Unordered collection of unique objects\n",
    "{ }\n",
    "unique values"
   ]
  },
  {
   "cell_type": "code",
   "execution_count": 91,
   "id": "14a00908",
   "metadata": {},
   "outputs": [],
   "source": [
    "myset = set()"
   ]
  },
  {
   "cell_type": "code",
   "execution_count": 92,
   "id": "e735a673",
   "metadata": {},
   "outputs": [],
   "source": [
    "myset.add(5)"
   ]
  },
  {
   "cell_type": "code",
   "execution_count": 95,
   "id": "3d201302",
   "metadata": {},
   "outputs": [
    {
     "data": {
      "text/plain": [
       "{5, 20}"
      ]
     },
     "execution_count": 95,
     "metadata": {},
     "output_type": "execute_result"
    }
   ],
   "source": [
    "myset"
   ]
  },
  {
   "cell_type": "code",
   "execution_count": 94,
   "id": "eec747e8",
   "metadata": {},
   "outputs": [],
   "source": [
    "myset.add(20)"
   ]
  },
  {
   "cell_type": "markdown",
   "id": "03e0b84d",
   "metadata": {},
   "source": [
    "# Booleans"
   ]
  },
  {
   "cell_type": "markdown",
   "id": "fb7090bf",
   "metadata": {},
   "source": [
    "True or False\n",
    "\n",
    "Comparision or Logical operations\n",
    "\n",
    "<, >, >=, ==, <=, !=\n",
    "( )"
   ]
  },
  {
   "cell_type": "markdown",
   "id": "46f13063",
   "metadata": {},
   "source": [
    "# Logical Operators\n"
   ]
  },
  {
   "cell_type": "markdown",
   "id": "0e0256c9",
   "metadata": {},
   "source": [
    "And Or Not keywords"
   ]
  },
  {
   "cell_type": "code",
   "execution_count": 97,
   "id": "e3048509",
   "metadata": {},
   "outputs": [
    {
     "name": "stdout",
     "output_type": "stream",
     "text": [
      "pass\n"
     ]
    }
   ],
   "source": [
    "if (1>2) or (2<3):\n",
    "    print('pass')\n",
    "else :\n",
    "    print('fail')"
   ]
  },
  {
   "cell_type": "code",
   "execution_count": 98,
   "id": "1eba1e00",
   "metadata": {},
   "outputs": [
    {
     "name": "stdout",
     "output_type": "stream",
     "text": [
      "fail\n"
     ]
    }
   ],
   "source": [
    "if (1>2) and (2<3):\n",
    "    print('pass')\n",
    "else :\n",
    "    print('fail')"
   ]
  },
  {
   "cell_type": "code",
   "execution_count": 99,
   "id": "cb0339ff",
   "metadata": {},
   "outputs": [
    {
     "name": "stdout",
     "output_type": "stream",
     "text": [
      "pass\n"
     ]
    }
   ],
   "source": [
    "if not (1>2):\n",
    "    print('pass')"
   ]
  },
  {
   "cell_type": "code",
   "execution_count": null,
   "id": "a648b584",
   "metadata": {},
   "outputs": [],
   "source": []
  }
 ],
 "metadata": {
  "kernelspec": {
   "display_name": "Python 3 (ipykernel)",
   "language": "python",
   "name": "python3"
  },
  "language_info": {
   "codemirror_mode": {
    "name": "ipython",
    "version": 3
   },
   "file_extension": ".py",
   "mimetype": "text/x-python",
   "name": "python",
   "nbconvert_exporter": "python",
   "pygments_lexer": "ipython3",
   "version": "3.11.5"
  }
 },
 "nbformat": 4,
 "nbformat_minor": 5
}
