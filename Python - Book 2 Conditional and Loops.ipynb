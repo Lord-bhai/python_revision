{
 "cells": [
  {
   "cell_type": "markdown",
   "id": "532feeb4",
   "metadata": {},
   "source": [
    "# Conditional Logic"
   ]
  },
  {
   "cell_type": "markdown",
   "id": "f9456300",
   "metadata": {},
   "source": [
    "If (condition):\n",
    "\n",
    "    #code\n",
    "elif (condition):\n",
    "\n",
    "    #code\n",
    "else:\n",
    "\n",
    "    #code"
   ]
  },
  {
   "cell_type": "code",
   "execution_count": 1,
   "id": "61d885d0",
   "metadata": {},
   "outputs": [
    {
     "name": "stdout",
     "output_type": "stream",
     "text": [
      "Jingalala\n"
     ]
    }
   ],
   "source": [
    "if 3>=2:\n",
    "    print(\"Jingalala\")\n",
    "else :\n",
    "    print(\"oolala\")"
   ]
  },
  {
   "cell_type": "markdown",
   "id": "7021b774",
   "metadata": {},
   "source": [
    "Indentation is important in python"
   ]
  },
  {
   "cell_type": "markdown",
   "id": "ebfbd2bf",
   "metadata": {},
   "source": [
    "# For Loops"
   ]
  },
  {
   "cell_type": "markdown",
   "id": "34982407",
   "metadata": {},
   "source": [
    "Iterable - means we can iterate over the object\n",
    "\n",
    "string, List, keys in Dictories\n",
    "\n",
    "Syntax- \n",
    "\n",
    "for item_name in Iterable:\n",
    "\n",
    "    print(item);\n"
   ]
  },
  {
   "cell_type": "code",
   "execution_count": 2,
   "id": "a67b371a",
   "metadata": {},
   "outputs": [],
   "source": [
    "my_string = \"Bhanu has really gooood rizzzz and he is very smart\""
   ]
  },
  {
   "cell_type": "code",
   "execution_count": 3,
   "id": "1c254149",
   "metadata": {},
   "outputs": [
    {
     "name": "stdout",
     "output_type": "stream",
     "text": [
      "['Bhanu', 'has', 'really', 'gooood', 'rizzzz', 'and', 'he', 'is', 'very', 'smart']\n"
     ]
    }
   ],
   "source": [
    "my_list = my_string.split()\n",
    "print(my_list)"
   ]
  },
  {
   "cell_type": "code",
   "execution_count": 5,
   "id": "bb48f560",
   "metadata": {},
   "outputs": [
    {
     "name": "stdout",
     "output_type": "stream",
     "text": [
      "Bhanu\n",
      "has\n",
      "really\n",
      "gooood\n",
      "rizzzz\n",
      "and\n",
      "he\n",
      "is\n",
      "very\n",
      "smart\n"
     ]
    }
   ],
   "source": [
    "for element in my_list:\n",
    "    print(element)"
   ]
  },
  {
   "cell_type": "code",
   "execution_count": 9,
   "id": "c9db22d1",
   "metadata": {},
   "outputs": [
    {
     "name": "stdout",
     "output_type": "stream",
     "text": [
      "$Bhanu$\n",
      "$has$\n",
      "$really$\n",
      "$gooood$\n",
      "$rizzzz$\n",
      "$and$\n",
      "$he$\n",
      "$is$\n",
      "$very$\n",
      "$smart$\n",
      "['Bhanu', 'has', 'really', 'gooood', 'rizzzz', 'and', 'he', 'is', 'very', 'smart']\n"
     ]
    }
   ],
   "source": [
    "for element in my_list:\n",
    "    element = '$'+ element +'$'\n",
    "    print(element)\n",
    "print(my_list)"
   ]
  },
  {
   "cell_type": "code",
   "execution_count": 8,
   "id": "fb9ca975",
   "metadata": {},
   "outputs": [
    {
     "name": "stdout",
     "output_type": "stream",
     "text": [
      "Bhanu has really gooood rizzzz and he is very smart$\n"
     ]
    }
   ],
   "source": [
    "my_string += '$'\n",
    "print(my_string)"
   ]
  },
  {
   "cell_type": "markdown",
   "id": "e498caaa",
   "metadata": {},
   "source": [
    "# While loop"
   ]
  },
  {
   "cell_type": "markdown",
   "id": "f8311b2d",
   "metadata": {},
   "source": [
    "Syntax\n",
    "\n",
    "while (condition) :\n",
    "    #code"
   ]
  },
  {
   "cell_type": "code",
   "execution_count": 10,
   "id": "3dec21e2",
   "metadata": {},
   "outputs": [
    {
     "name": "stdout",
     "output_type": "stream",
     "text": [
      "0\n",
      "1\n",
      "2\n",
      "3\n",
      "4\n"
     ]
    }
   ],
   "source": [
    "x = 0;\n",
    "\n",
    "while x < 5:\n",
    "    print(x);x+=1;"
   ]
  },
  {
   "cell_type": "markdown",
   "id": "10e250d0",
   "metadata": {},
   "source": [
    "# Keywords - break , continue, pass"
   ]
  },
  {
   "cell_type": "markdown",
   "id": "da9b5a9e",
   "metadata": {},
   "source": [
    "break - breaks out of the current closest enclosing loop"
   ]
  },
  {
   "cell_type": "markdown",
   "id": "b94c6a3d",
   "metadata": {},
   "source": [
    "continue - goes to the top of the closest enclosing loop"
   ]
  },
  {
   "cell_type": "markdown",
   "id": "e16e9c54",
   "metadata": {},
   "source": [
    "pass - Does nothing at all"
   ]
  },
  {
   "cell_type": "code",
   "execution_count": 11,
   "id": "2da322c1",
   "metadata": {},
   "outputs": [],
   "source": [
    "x = [1,2,3,4]\n",
    "\n",
    "for item in x:\n",
    "    pass #use it as placeholder for future code"
   ]
  },
  {
   "cell_type": "code",
   "execution_count": 12,
   "id": "5f60156d",
   "metadata": {},
   "outputs": [],
   "source": [
    "my_string = \" Bhanu is the greatest of all time and he is the goat\";"
   ]
  },
  {
   "cell_type": "code",
   "execution_count": 13,
   "id": "108ad186",
   "metadata": {},
   "outputs": [],
   "source": [
    "my_list = my_string.split()"
   ]
  },
  {
   "cell_type": "code",
   "execution_count": 14,
   "id": "2be56783",
   "metadata": {},
   "outputs": [
    {
     "name": "stdout",
     "output_type": "stream",
     "text": [
      "Bhanu\n",
      "is\n",
      "the\n",
      "greatest\n",
      "of\n"
     ]
    }
   ],
   "source": [
    "for ele in my_list:\n",
    "    if ele == 'all':\n",
    "        break\n",
    "    else:\n",
    "        print(ele)"
   ]
  },
  {
   "cell_type": "code",
   "execution_count": 15,
   "id": "06350786",
   "metadata": {},
   "outputs": [
    {
     "name": "stdout",
     "output_type": "stream",
     "text": [
      "Bhanu\n",
      "is\n",
      "the\n",
      "greatest\n",
      "of\n",
      "time\n",
      "and\n",
      "he\n",
      "is\n",
      "the\n",
      "goat\n"
     ]
    }
   ],
   "source": [
    "for ele in my_list:\n",
    "    if ele == 'all':\n",
    "        continue\n",
    "    else:\n",
    "        print(ele)"
   ]
  },
  {
   "cell_type": "code",
   "execution_count": null,
   "id": "a1f02771",
   "metadata": {},
   "outputs": [],
   "source": []
  }
 ],
 "metadata": {
  "kernelspec": {
   "display_name": "Python 3 (ipykernel)",
   "language": "python",
   "name": "python3"
  },
  "language_info": {
   "codemirror_mode": {
    "name": "ipython",
    "version": 3
   },
   "file_extension": ".py",
   "mimetype": "text/x-python",
   "name": "python",
   "nbconvert_exporter": "python",
   "pygments_lexer": "ipython3",
   "version": "3.11.5"
  }
 },
 "nbformat": 4,
 "nbformat_minor": 5
}
