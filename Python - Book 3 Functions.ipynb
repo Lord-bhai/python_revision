{
 "cells": [
  {
   "cell_type": "markdown",
   "id": "3a9b43e7",
   "metadata": {},
   "source": [
    "# Functions and Methods"
   ]
  },
  {
   "cell_type": "markdown",
   "id": "d4beb262",
   "metadata": {},
   "source": [
    "Methods - classes have objects - methods and attributes"
   ]
  },
  {
   "cell_type": "code",
   "execution_count": 1,
   "id": "0a339218",
   "metadata": {},
   "outputs": [],
   "source": [
    "my_list = [1,2,3,4]"
   ]
  },
  {
   "cell_type": "code",
   "execution_count": 2,
   "id": "97a85a09",
   "metadata": {},
   "outputs": [],
   "source": [
    "my_list.append(8)"
   ]
  },
  {
   "cell_type": "code",
   "execution_count": 3,
   "id": "fc66ff7b",
   "metadata": {},
   "outputs": [
    {
     "data": {
      "text/plain": [
       "[1, 2, 3, 4, 8]"
      ]
     },
     "execution_count": 3,
     "metadata": {},
     "output_type": "execute_result"
    }
   ],
   "source": [
    "my_list"
   ]
  },
  {
   "cell_type": "markdown",
   "id": "7bf1da84",
   "metadata": {},
   "source": [
    "Shortcut - . and tab - you get the list of all methods and attributes\n",
    "\n",
    "Shift and tab - opens the help tab and will or help(my_list.append) it will open the doc string\n",
    "\n",
    "Open the python documentation - complete repository of all documentation and all the function\n",
    "\n",
    "Googling and ChatGPT - this is the OG"
   ]
  },
  {
   "cell_type": "markdown",
   "id": "8cee0547",
   "metadata": {},
   "source": [
    "# Functions"
   ]
  },
  {
   "cell_type": "markdown",
   "id": "70ae6976",
   "metadata": {},
   "source": [
    "Functions allow to create blocks of code without needing to rewrite the block of code. Write it once and call it multiple times."
   ]
  },
  {
   "cell_type": "markdown",
   "id": "5c7cdf5b",
   "metadata": {},
   "source": [
    "conditional --> Loops --> Functions --> object oriented --> DSA"
   ]
  },
  {
   "cell_type": "code",
   "execution_count": 12,
   "id": "de83d659",
   "metadata": {},
   "outputs": [],
   "source": [
    "my_list = [1,2,3,4,6,7]"
   ]
  },
  {
   "cell_type": "code",
   "execution_count": 13,
   "id": "b6102961",
   "metadata": {},
   "outputs": [],
   "source": [
    "def doubler(a):\n",
    "    \"\"\"\n",
    "    this is the doc string - this will explain about the function\n",
    "    for this example - function would return the double value\n",
    "    \"\"\"\n",
    "    return 2*a;"
   ]
  },
  {
   "cell_type": "code",
   "execution_count": 14,
   "id": "815ac235",
   "metadata": {},
   "outputs": [
    {
     "data": {
      "text/plain": [
       "[1, 2, 3, 4, 6, 7, 1, 2, 3, 4, 6, 7]"
      ]
     },
     "execution_count": 14,
     "metadata": {},
     "output_type": "execute_result"
    }
   ],
   "source": [
    "doubler(my_list)"
   ]
  },
  {
   "cell_type": "code",
   "execution_count": 15,
   "id": "5e1cf7d5",
   "metadata": {},
   "outputs": [],
   "source": [
    "for i in range(len(my_list)):\n",
    "    my_list[i] = doubler(my_list[i]);"
   ]
  },
  {
   "cell_type": "code",
   "execution_count": 16,
   "id": "1f4b7ad2",
   "metadata": {},
   "outputs": [
    {
     "data": {
      "text/plain": [
       "[2, 4, 6, 8, 12, 14]"
      ]
     },
     "execution_count": 16,
     "metadata": {},
     "output_type": "execute_result"
    }
   ],
   "source": [
    "my_list"
   ]
  },
  {
   "cell_type": "markdown",
   "id": "1136ae69",
   "metadata": {},
   "source": [
    "### Use Snake Casing while usng the functions  my_function_is_this"
   ]
  },
  {
   "cell_type": "markdown",
   "id": "655f64b0",
   "metadata": {},
   "source": [
    "Parameter or Argument - the input passed on to function\n",
    "\n",
    "return - returns the value as output to the function"
   ]
  },
  {
   "cell_type": "code",
   "execution_count": 17,
   "id": "35a6ee25",
   "metadata": {},
   "outputs": [],
   "source": [
    "def say_hello():\n",
    "    print(\"Hello World\")\n",
    "    print(\"this is a function\")"
   ]
  },
  {
   "cell_type": "code",
   "execution_count": 18,
   "id": "814bf218",
   "metadata": {},
   "outputs": [
    {
     "name": "stdout",
     "output_type": "stream",
     "text": [
      "Hello World\n",
      "this is a function\n"
     ]
    }
   ],
   "source": [
    "say_hello()"
   ]
  },
  {
   "cell_type": "code",
   "execution_count": 19,
   "id": "a9893bd1",
   "metadata": {},
   "outputs": [
    {
     "data": {
      "text/plain": [
       "<function __main__.say_hello()>"
      ]
     },
     "execution_count": 19,
     "metadata": {},
     "output_type": "execute_result"
    }
   ],
   "source": [
    "say_hello"
   ]
  },
  {
   "cell_type": "markdown",
   "id": "8d78de7f",
   "metadata": {},
   "source": [
    "With ( ) paraenthesis, we are calling a function, without them we are displaying attributes"
   ]
  },
  {
   "cell_type": "code",
   "execution_count": 23,
   "id": "337fdf0b",
   "metadata": {},
   "outputs": [],
   "source": [
    "def say_hello(name = \"Pradeep\"): # = is the default value incase if you leave it blank\n",
    "    print(\"Hello {}\".format(name))"
   ]
  },
  {
   "cell_type": "code",
   "execution_count": 24,
   "id": "90572708",
   "metadata": {},
   "outputs": [
    {
     "name": "stdout",
     "output_type": "stream",
     "text": [
      "Hello Bhanu\n"
     ]
    }
   ],
   "source": [
    "say_hello(\"Bhanu\")"
   ]
  },
  {
   "cell_type": "code",
   "execution_count": 25,
   "id": "ea92c935",
   "metadata": {},
   "outputs": [
    {
     "name": "stdout",
     "output_type": "stream",
     "text": [
      "Hello Pradeep\n"
     ]
    }
   ],
   "source": [
    "say_hello()"
   ]
  },
  {
   "cell_type": "markdown",
   "id": "0ca55bfe",
   "metadata": {},
   "source": [
    "# * args and ** kwargs"
   ]
  },
  {
   "cell_type": "code",
   "execution_count": 1,
   "id": "26324789",
   "metadata": {},
   "outputs": [],
   "source": [
    "def my_func(*args):\n",
    "    return sum(args)*0.01;"
   ]
  },
  {
   "cell_type": "code",
   "execution_count": 2,
   "id": "f3321aa3",
   "metadata": {},
   "outputs": [
    {
     "data": {
      "text/plain": [
       "1.44"
      ]
     },
     "execution_count": 2,
     "metadata": {},
     "output_type": "execute_result"
    }
   ],
   "source": [
    "my_func(10,2,3,45,6,78,0)"
   ]
  },
  {
   "cell_type": "markdown",
   "id": "491cf8ec",
   "metadata": {},
   "source": [
    "\"*\" args - makes the function parameters to be passed as tuples - arbitrary number of arguments\n"
   ]
  },
  {
   "cell_type": "code",
   "execution_count": 4,
   "id": "bece2fbe",
   "metadata": {},
   "outputs": [],
   "source": [
    "def my_bhanu(name, weight,*args):\n",
    "    my_string = \" my name is {0} and my weight is{1}  and my other paramenters are {2}\".format(name,weight, args);\n",
    "    print(my_string)"
   ]
  },
  {
   "cell_type": "code",
   "execution_count": 5,
   "id": "a59188c7",
   "metadata": {},
   "outputs": [
    {
     "name": "stdout",
     "output_type": "stream",
     "text": [
      " my name is Bhanu and my weight is77  and my other paramenters are (1997, 'december', 3)\n"
     ]
    }
   ],
   "source": [
    "my_bhanu(\"Bhanu\",77,1997,\"december\",3)"
   ]
  },
  {
   "cell_type": "markdown",
   "id": "15a54cab",
   "metadata": {},
   "source": [
    "# ** KWARGS"
   ]
  },
  {
   "cell_type": "markdown",
   "id": "00422dcf",
   "metadata": {},
   "source": [
    "key word arguments - Dictonary instead of tuple - helps you bring more clarity on the paraments"
   ]
  },
  {
   "cell_type": "code",
   "execution_count": 16,
   "id": "1121a633",
   "metadata": {},
   "outputs": [],
   "source": [
    "def my_bhanu(**kwargs):\n",
    "    my_str = str();\n",
    "    if 'name' in kwargs:\n",
    "        my_str += \"My name is {}\".format(kwargs['name']);\n",
    "    if 'weight' in kwargs:\n",
    "        my_str += \" and my weight is {} Kgs\".format(kwargs['weight'])\n",
    "    return my_str"
   ]
  },
  {
   "cell_type": "code",
   "execution_count": 17,
   "id": "f731878a",
   "metadata": {},
   "outputs": [
    {
     "data": {
      "text/plain": [
       "'My name is bhanu and my weight is 77 Kgs'"
      ]
     },
     "execution_count": 17,
     "metadata": {},
     "output_type": "execute_result"
    }
   ],
   "source": [
    "my_bhanu(name = \"bhanu\",weight = 77, height = 164)"
   ]
  }
 ],
 "metadata": {
  "kernelspec": {
   "display_name": "Python 3 (ipykernel)",
   "language": "python",
   "name": "python3"
  },
  "language_info": {
   "codemirror_mode": {
    "name": "ipython",
    "version": 3
   },
   "file_extension": ".py",
   "mimetype": "text/x-python",
   "name": "python",
   "nbconvert_exporter": "python",
   "pygments_lexer": "ipython3",
   "version": "3.11.5"
  }
 },
 "nbformat": 4,
 "nbformat_minor": 5
}
