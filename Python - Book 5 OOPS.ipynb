{
 "cells": [
  {
   "cell_type": "markdown",
   "id": "962d29f0",
   "metadata": {},
   "source": [
    "# Object Oriented Programming"
   ]
  },
  {
   "cell_type": "markdown",
   "id": "11edaba4",
   "metadata": {},
   "source": [
    "Scalable and will take your programming to a next level\n",
    "Repeatable and organised, flexible, libraries\n",
    "\n"
   ]
  },
  {
   "cell_type": "code",
   "execution_count": 11,
   "id": "b14c3cc4",
   "metadata": {},
   "outputs": [],
   "source": [
    "class Dog():\n",
    "    # class object attribute\n",
    "    # same for any instance of th class - not to be used self becuase regardless of any instance it would be same\n",
    "    species = 'mammal';\n",
    "    def __init__(self,name,breed):\n",
    "        self.name = name;\n",
    "        self.breed = breed;\n",
    "        \n",
    "    def bark(self):\n",
    "        print(\"Bow Bow\");\n",
    "        \n",
    "    def identify(self):\n",
    "        print(\"hi , I am {0} , and I am from {1} breed\".format(self.name,self.breed));\n",
    "        print(\"I am from {} species\".format(Dog.species))\n",
    "        "
   ]
  },
  {
   "cell_type": "code",
   "execution_count": 12,
   "id": "fe25c801",
   "metadata": {},
   "outputs": [],
   "source": [
    "doggy = Dog(\"Jhonny\",\"German Shepherd\");"
   ]
  },
  {
   "cell_type": "code",
   "execution_count": 13,
   "id": "2d8095a9",
   "metadata": {},
   "outputs": [
    {
     "name": "stdout",
     "output_type": "stream",
     "text": [
      "Bow Bow\n"
     ]
    }
   ],
   "source": [
    "doggy.bark()"
   ]
  },
  {
   "cell_type": "code",
   "execution_count": 14,
   "id": "52ae8a7c",
   "metadata": {},
   "outputs": [
    {
     "name": "stdout",
     "output_type": "stream",
     "text": [
      "hi , I am Jhonny , and I am from German Shepherd breed\n",
      " I am from mammal species\n"
     ]
    }
   ],
   "source": [
    "doggy.identify()"
   ]
  },
  {
   "cell_type": "code",
   "execution_count": 5,
   "id": "19d46472",
   "metadata": {},
   "outputs": [
    {
     "data": {
      "text/plain": [
       "'Jhonny'"
      ]
     },
     "execution_count": 5,
     "metadata": {},
     "output_type": "execute_result"
    }
   ],
   "source": [
    "doggy.name"
   ]
  },
  {
   "cell_type": "code",
   "execution_count": 6,
   "id": "20526a3c",
   "metadata": {},
   "outputs": [
    {
     "data": {
      "text/plain": [
       "'mammal'"
      ]
     },
     "execution_count": 6,
     "metadata": {},
     "output_type": "execute_result"
    }
   ],
   "source": [
    "doggy.species"
   ]
  },
  {
   "cell_type": "markdown",
   "id": "c7b6de54",
   "metadata": {},
   "source": [
    "Attributes - Values\n",
    "\n",
    "Methods - Functions\n",
    "\n"
   ]
  },
  {
   "cell_type": "markdown",
   "id": "177d375b",
   "metadata": {},
   "source": [
    "# Class Object Attribute - pending lecture 70\n"
   ]
  },
  {
   "cell_type": "code",
   "execution_count": 30,
   "id": "3fb8b4f4",
   "metadata": {},
   "outputs": [],
   "source": [
    "class Circle():\n",
    "    pi = 3.14\n",
    "    \n",
    "    def __init__(self,radius = 1):\n",
    "        self.radius = radius;\n",
    "        \n",
    "    def print_area(self):\n",
    "        print(Circle.pi*self.radius*self.radius);\n",
    "        \n",
    "    def circum(self):\n",
    "        print(2*Circle.pi*self.radius)"
   ]
  },
  {
   "cell_type": "code",
   "execution_count": 31,
   "id": "6cbf4683",
   "metadata": {},
   "outputs": [],
   "source": [
    "c = Circle(3)"
   ]
  },
  {
   "cell_type": "code",
   "execution_count": 32,
   "id": "ac35e157",
   "metadata": {},
   "outputs": [
    {
     "name": "stdout",
     "output_type": "stream",
     "text": [
      "28.259999999999998\n"
     ]
    }
   ],
   "source": [
    "c.print_area()"
   ]
  },
  {
   "cell_type": "code",
   "execution_count": 33,
   "id": "a3674ad5",
   "metadata": {},
   "outputs": [
    {
     "name": "stdout",
     "output_type": "stream",
     "text": [
      "18.84\n"
     ]
    }
   ],
   "source": [
    "c.circum()"
   ]
  },
  {
   "cell_type": "markdown",
   "id": "18e79ca3",
   "metadata": {},
   "source": [
    "Note - Self. as suffix to refernce the class attributes\n",
    "\n",
    "class. as suffix to reference class object attributes"
   ]
  },
  {
   "cell_type": "markdown",
   "id": "03e90138",
   "metadata": {},
   "source": [
    "# Inheritence"
   ]
  },
  {
   "cell_type": "markdown",
   "id": "35c2d390",
   "metadata": {},
   "source": [
    "Base class and Child Class"
   ]
  },
  {
   "cell_type": "code",
   "execution_count": 34,
   "id": "8f63b959",
   "metadata": {},
   "outputs": [],
   "source": [
    "class Animal():\n",
    "    def __init__(self):\n",
    "        print(\"Animal Created\");\n",
    "    \n",
    "    def eat(self):\n",
    "        print(\"I am eating\")\n",
    "        \n",
    "    def who_am_i(self):\n",
    "        print(\"I am an animal\")\n",
    "        "
   ]
  },
  {
   "cell_type": "code",
   "execution_count": 41,
   "id": "24164e31",
   "metadata": {},
   "outputs": [],
   "source": [
    "class Dog(Animal):\n",
    "    def __init__(self):\n",
    "        Animal.__init__(self)\n",
    "        print(\"Dog Created\")\n",
    "        \n",
    "    def who_am_i(self):\n",
    "        print(\"I am a dog\")\n",
    "        \n",
    "    def bark(self):\n",
    "        print(\"Bhow Bhow\")"
   ]
  },
  {
   "cell_type": "code",
   "execution_count": 42,
   "id": "5d5adfce",
   "metadata": {},
   "outputs": [
    {
     "name": "stdout",
     "output_type": "stream",
     "text": [
      "Animal Created\n",
      "Dog Created\n"
     ]
    }
   ],
   "source": [
    "pug = Dog()"
   ]
  },
  {
   "cell_type": "code",
   "execution_count": 43,
   "id": "2093b67e",
   "metadata": {},
   "outputs": [
    {
     "name": "stdout",
     "output_type": "stream",
     "text": [
      "I am a dog\n"
     ]
    }
   ],
   "source": [
    "pug.who_am_i()"
   ]
  },
  {
   "cell_type": "markdown",
   "id": "0057c009",
   "metadata": {},
   "source": [
    "Dog inherits the methods from the Animal Class"
   ]
  },
  {
   "cell_type": "code",
   "execution_count": 44,
   "id": "774428ae",
   "metadata": {},
   "outputs": [
    {
     "name": "stdout",
     "output_type": "stream",
     "text": [
      "Bhow Bhow\n"
     ]
    }
   ],
   "source": [
    "pug.bark()"
   ]
  },
  {
   "cell_type": "markdown",
   "id": "ca27faae",
   "metadata": {},
   "source": [
    "You can overwrite the methods in the child class and add more methods"
   ]
  },
  {
   "cell_type": "markdown",
   "id": "b3e4fcd7",
   "metadata": {},
   "source": [
    "# Polymorphism"
   ]
  },
  {
   "cell_type": "markdown",
   "id": "4731fa19",
   "metadata": {},
   "source": [
    "Different Functions share the same name"
   ]
  },
  {
   "cell_type": "code",
   "execution_count": 45,
   "id": "7fc3ed4b",
   "metadata": {},
   "outputs": [],
   "source": [
    "class Dog():\n",
    "    def __init__(self,name):\n",
    "        self.name = name;\n",
    "        \n",
    "    def speak(self):\n",
    "        print(self.name + \" Says Bhow Bhow\")"
   ]
  },
  {
   "cell_type": "code",
   "execution_count": 46,
   "id": "b29d208d",
   "metadata": {},
   "outputs": [],
   "source": [
    "class Cat():\n",
    "    def __init__(self, name):\n",
    "        self.name = name;\n",
    "        \n",
    "    def speak(self):\n",
    "        print(self.name + \" Says Meow\")"
   ]
  },
  {
   "cell_type": "code",
   "execution_count": 49,
   "id": "a047348c",
   "metadata": {},
   "outputs": [],
   "source": [
    "Jhonny = Dog(\"Jhonny\")"
   ]
  },
  {
   "cell_type": "code",
   "execution_count": 50,
   "id": "3114ed11",
   "metadata": {},
   "outputs": [
    {
     "name": "stdout",
     "output_type": "stream",
     "text": [
      "Jhonny Says Bhow Bhow\n"
     ]
    }
   ],
   "source": [
    "Jhonny.speak()"
   ]
  },
  {
   "cell_type": "code",
   "execution_count": 51,
   "id": "52224f79",
   "metadata": {},
   "outputs": [],
   "source": [
    "Pussy = Cat(\"Pussy\")"
   ]
  },
  {
   "cell_type": "code",
   "execution_count": 52,
   "id": "32d7c730",
   "metadata": {},
   "outputs": [
    {
     "name": "stdout",
     "output_type": "stream",
     "text": [
      "Pussy Says Meow\n"
     ]
    }
   ],
   "source": [
    "Pussy.speak()"
   ]
  },
  {
   "cell_type": "code",
   "execution_count": 54,
   "id": "8a75b07a",
   "metadata": {},
   "outputs": [
    {
     "name": "stdout",
     "output_type": "stream",
     "text": [
      "Jhonny Says Bhow Bhow\n",
      "Pussy Says Meow\n"
     ]
    }
   ],
   "source": [
    "for pet_class in [Jhonny, Pussy]:\n",
    "    pet_class.speak();"
   ]
  },
  {
   "cell_type": "code",
   "execution_count": null,
   "id": "6685ef5c",
   "metadata": {},
   "outputs": [],
   "source": []
  }
 ],
 "metadata": {
  "kernelspec": {
   "display_name": "Python 3 (ipykernel)",
   "language": "python",
   "name": "python3"
  },
  "language_info": {
   "codemirror_mode": {
    "name": "ipython",
    "version": 3
   },
   "file_extension": ".py",
   "mimetype": "text/x-python",
   "name": "python",
   "nbconvert_exporter": "python",
   "pygments_lexer": "ipython3",
   "version": "3.11.5"
  }
 },
 "nbformat": 4,
 "nbformat_minor": 5
}
